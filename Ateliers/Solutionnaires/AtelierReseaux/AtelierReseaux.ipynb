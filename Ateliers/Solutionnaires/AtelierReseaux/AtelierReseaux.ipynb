{
 "cells": [
  {
   "cell_type": "markdown",
   "metadata": {
    "collapsed": true,
    "pycharm": {
     "name": "#%% md\n"
    }
   },
   "source": [
    "# Atelier d'analyse de réseaux\n",
    "## Introduction\n",
    "L'atelier qui suit vise à vous faire pratiquer la programmation *Python* d'une part, mais aussi les notions d'analyse de réseaux qui sont utilisées en sciences.\n",
    "\n",
    "## Mise en contexte\n",
    "On vous demande d'analyser le réseau de contributions de publications des professeurs du département de physique, génie physique et optique. Vous avez des données dans le dossier `data`, situé à la racine du dossier `Ateliers` (le chemin relatif à partir d'ici est `../../data`). Dans ce dossier, vous avez plusieurs fichiers `.xls` (des fichiers *Excel*) et le traitement de base a été effectué, de sorte que les liens entre les professeurs pour les publications sont déjà obtenus, ils sont dans le fichier `liens.csv`. Vous trouverez aussi une liste des professeurs dans le fichier `profs.csv`. (Les profs à la retraite ne sont pas présents, sauf pour prof. Nathalie McCarthy)"
   ]
  },
  {
   "cell_type": "code",
   "execution_count": 2,
   "outputs": [],
   "source": [
    "import pandas as pd\n",
    "import numpy as np\n",
    "import networkx as nx\n",
    "import matplotlib.pyplot as plt"
   ],
   "metadata": {
    "collapsed": false,
    "pycharm": {
     "name": "#%%\n"
    }
   }
  },
  {
   "cell_type": "code",
   "execution_count": 5,
   "outputs": [
    {
     "name": "stdout",
     "output_type": "stream",
     "text": [
      "          Auteur1       Auteur2  \\\n",
      "0     Galstian, T  Rainville, S   \n",
      "1      Bernier, M     Vallee, R   \n",
      "2      Bernier, M  Messaddeq, Y   \n",
      "3      Bernier, M     Vallee, R   \n",
      "4    Messaddeq, Y     Vallee, R   \n",
      "..            ...           ...   \n",
      "467       Cote, D     Vallee, R   \n",
      "468    Bernier, M     Vallee, R   \n",
      "469    Bernier, M     Vallee, R   \n",
      "470     Joncas, G     Martel, H   \n",
      "471    Drissen, L     Martel, H   \n",
      "\n",
      "                                                 Titre  Citations  \n",
      "0    Dynamic guiding of bacteria in lyotropic chrom...          0  \n",
      "1    Femtosecond laser-induced refractive index mod...         20  \n",
      "2    Towards the development of fiber lasers for th...         33  \n",
      "3    High mechanical strength fiber Bragg gratings ...         55  \n",
      "4    Femtosecond laser-induced nanogratings formati...          0  \n",
      "..                                                 ...        ...  \n",
      "467  Live animal myelin histomorphometry of the spi...         35  \n",
      "468  Slow-Light Fiber-Bragg-Grating Strain Sensor W...         29  \n",
      "469       Endcapping of high-power 3 mu m fiber lasers         16  \n",
      "470                     SIGNALS: I. Survey description          9  \n",
      "471  COSMOLOGICAL SIMULATIONS OF THE INTERGALACTIC ...          7  \n",
      "\n",
      "[472 rows x 4 columns]\n",
      "              Prof\n",
      "0        Allard, A\n",
      "1         Allen, C\n",
      "2   Archambault, L\n",
      "3      Beaulieu, L\n",
      "4       Bernier, M\n",
      "5          Cote, D\n",
      "6    Desjardins, M\n",
      "7       Despres, P\n",
      "8    Desrosiers, P\n",
      "9       Drissen, L\n",
      "10      Fortin, JF\n",
      "11     Galstian, T\n",
      "12       Joncas, G\n",
      "13   Knystautas, E\n",
      "14      Marleau, L\n",
      "15       Martel, H\n",
      "16     McCarthy, N\n",
      "17    Messaddeq, Y\n",
      "18        Piche, M\n",
      "19    Rainville, S\n",
      "20       Robert, C\n",
      "21     Thibault, S\n",
      "22       Vallee, R\n",
      "23       Witzel, B\n"
     ]
    }
   ],
   "source": [
    "# On extrait les données des fichiers\n",
    "\n",
    "liens = pd.read_csv(\"../../data/liens.csv\")\n",
    "profs = pd.read_csv(\"../../data/profs.csv\")\n",
    "print(liens)\n",
    "print(profs)"
   ],
   "metadata": {
    "collapsed": false,
    "pycharm": {
     "name": "#%%\n"
    }
   }
  },
  {
   "cell_type": "markdown",
   "source": [
    "On remarque que le fichier `liens.csv` est de la forme `auteur1, auteur2, titre, nombre citations`. Toutes les informations seront importantes."
   ],
   "metadata": {
    "collapsed": false,
    "pycharm": {
     "name": "#%% md\n"
    }
   }
  },
  {
   "cell_type": "markdown",
   "source": [
    "## Tâche 1: Faire un graphe \"vide\" avec NetworkX\n",
    "On a vu dans la présentation sur l'analyse de réseaux que la base des réseaux est la notion mathématique de graphe. Il existe deux grandes familles de graphes: ceux dirigés et ceux non dirigés. On pourrait aussi dire que ces deux familles sont les graphes pondérés et ceux non pondérés. Dans le cas présent, comme il peut exister plusieurs contributions entre deux mêmes professeurs, on utilisera les graphes pondérés. Par contre, comme on ne peut vraiment distinguer un sens entre les contributions, on utilisera les graphes non orientés.\n",
    "\n",
    "L'utilisation de NetworkX est assez intuitive. On peut créer des graphes orientés ou pas, pondérés ou pas, ainsi que des graphes multi (c'est-à-dire que deux nœuds peuvent avoir plusieurs liens. Dans notre cas, ce pourrait être intéressant, mais nous opterons pour une pondération quantifiant le nombre de contributions entre deux professeurs. Ainsi, la représentation visuelle du réseau sera moins lourde)."
   ],
   "metadata": {
    "collapsed": false,
    "pycharm": {
     "name": "#%% md\n"
    }
   }
  },
  {
   "cell_type": "code",
   "execution_count": 8,
   "outputs": [],
   "source": [
    "G = nx.Graph()  # On crée un graphe vide\n",
    "for prof in profs:\n",
    "    G.add_node(prof)  # Étant donné que chaque prof est un noeud, on les ajoute un à la fois"
   ],
   "metadata": {
    "collapsed": false,
    "pycharm": {
     "name": "#%%\n"
    }
   }
  },
  {
   "cell_type": "markdown",
   "source": [
    "On a maintenant un graphe \"vide\" avec seulement les nœuds correspondant aux professeurs"
   ],
   "metadata": {
    "collapsed": false,
    "pycharm": {
     "name": "#%% md\n"
    }
   }
  },
  {
   "cell_type": "markdown",
   "source": [
    "## Tâche 2: Calculer la pondération\n",
    "On sait que deux professeurs peuvent avoir plusieurs collaborations, alors comment fait-on pour calculer la pondération entre ces deux professeurs?"
   ],
   "metadata": {
    "collapsed": false,
    "pycharm": {
     "name": "#%% md\n"
    }
   }
  }
 ],
 "metadata": {
  "kernelspec": {
   "display_name": "Python 3",
   "language": "python",
   "name": "python3"
  },
  "language_info": {
   "codemirror_mode": {
    "name": "ipython",
    "version": 2
   },
   "file_extension": ".py",
   "mimetype": "text/x-python",
   "name": "python",
   "nbconvert_exporter": "python",
   "pygments_lexer": "ipython2",
   "version": "2.7.6"
  }
 },
 "nbformat": 4,
 "nbformat_minor": 0
}